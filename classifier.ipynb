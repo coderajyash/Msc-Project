{
 "cells": [
  {
   "cell_type": "code",
   "execution_count": 4,
   "metadata": {},
   "outputs": [],
   "source": [
    "import pandas as pd\n",
    "import re\n",
    "import nltk\n",
    "from nltk.corpus import stopwords\n",
    "from nltk.stem import WordNetLemmatizer\n",
    "from sklearn.feature_extraction.text import TfidfVectorizer\n",
    "from sklearn.model_selection import train_test_split\n",
    "from sklearn.linear_model import LogisticRegression\n",
    "from sklearn.metrics import classification_report, accuracy_score\n",
    "import joblib\n",
    "from sklearn.metrics import classification_report, precision_score, recall_score, f1_score, accuracy_score\n",
    "import matplotlib.pyplot as plt"
   ]
  },
  {
   "cell_type": "code",
   "execution_count": 3,
   "metadata": {},
   "outputs": [
    {
     "name": "stderr",
     "output_type": "stream",
     "text": [
      "/var/folders/hs/bg0sjys12tqgftpwb7z0s8j00000gn/T/ipykernel_74766/373876100.py:1: DtypeWarning: Columns (9) have mixed types. Specify dtype option on import or set low_memory=False.\n",
      "  data = pd.read_csv('Myntra Fasion Clothing.csv')\n"
     ]
    },
    {
     "data": {
      "text/html": [
       "<div>\n",
       "<style scoped>\n",
       "    .dataframe tbody tr th:only-of-type {\n",
       "        vertical-align: middle;\n",
       "    }\n",
       "\n",
       "    .dataframe tbody tr th {\n",
       "        vertical-align: top;\n",
       "    }\n",
       "\n",
       "    .dataframe thead th {\n",
       "        text-align: right;\n",
       "    }\n",
       "</style>\n",
       "<table border=\"1\" class=\"dataframe\">\n",
       "  <thead>\n",
       "    <tr style=\"text-align: right;\">\n",
       "      <th></th>\n",
       "      <th>URL</th>\n",
       "      <th>Product_id</th>\n",
       "      <th>BrandName</th>\n",
       "      <th>Category</th>\n",
       "      <th>Individual_category</th>\n",
       "      <th>category_by_Gender</th>\n",
       "      <th>Description</th>\n",
       "      <th>DiscountPrice (in Rs)</th>\n",
       "      <th>OriginalPrice (in Rs)</th>\n",
       "      <th>DiscountOffer</th>\n",
       "      <th>SizeOption</th>\n",
       "      <th>Ratings</th>\n",
       "      <th>Reviews</th>\n",
       "    </tr>\n",
       "  </thead>\n",
       "  <tbody>\n",
       "    <tr>\n",
       "      <th>0</th>\n",
       "      <td>https://www.myntra.com/jeans/roadster/roadster...</td>\n",
       "      <td>2296012</td>\n",
       "      <td>Roadster</td>\n",
       "      <td>Bottom Wear</td>\n",
       "      <td>jeans</td>\n",
       "      <td>Men</td>\n",
       "      <td>roadster men navy blue slim fit mid rise clean...</td>\n",
       "      <td>824.0</td>\n",
       "      <td>1499.0</td>\n",
       "      <td>45% OFF</td>\n",
       "      <td>28, 30, 32, 34, 36</td>\n",
       "      <td>3.9</td>\n",
       "      <td>999.0</td>\n",
       "    </tr>\n",
       "    <tr>\n",
       "      <th>1</th>\n",
       "      <td>https://www.myntra.com/track-pants/locomotive/...</td>\n",
       "      <td>13780156</td>\n",
       "      <td>LOCOMOTIVE</td>\n",
       "      <td>Bottom Wear</td>\n",
       "      <td>track-pants</td>\n",
       "      <td>Men</td>\n",
       "      <td>locomotive men black  white solid slim fit tra...</td>\n",
       "      <td>517.0</td>\n",
       "      <td>1149.0</td>\n",
       "      <td>55% OFF</td>\n",
       "      <td>S, M, L, XL</td>\n",
       "      <td>4.0</td>\n",
       "      <td>999.0</td>\n",
       "    </tr>\n",
       "    <tr>\n",
       "      <th>2</th>\n",
       "      <td>https://www.myntra.com/shirts/roadster/roadste...</td>\n",
       "      <td>11895958</td>\n",
       "      <td>Roadster</td>\n",
       "      <td>Topwear</td>\n",
       "      <td>shirts</td>\n",
       "      <td>Men</td>\n",
       "      <td>roadster men navy white  black geometric print...</td>\n",
       "      <td>629.0</td>\n",
       "      <td>1399.0</td>\n",
       "      <td>55% OFF</td>\n",
       "      <td>38, 40, 42, 44, 46, 48</td>\n",
       "      <td>4.3</td>\n",
       "      <td>999.0</td>\n",
       "    </tr>\n",
       "    <tr>\n",
       "      <th>3</th>\n",
       "      <td>https://www.myntra.com/shapewear/zivame/zivame...</td>\n",
       "      <td>4335679</td>\n",
       "      <td>Zivame</td>\n",
       "      <td>Lingerie &amp; Sleep Wear</td>\n",
       "      <td>shapewear</td>\n",
       "      <td>Women</td>\n",
       "      <td>zivame women black saree shapewear zi3023core0...</td>\n",
       "      <td>893.0</td>\n",
       "      <td>1295.0</td>\n",
       "      <td>31% OFF</td>\n",
       "      <td>S, M, L, XL, XXL</td>\n",
       "      <td>4.2</td>\n",
       "      <td>999.0</td>\n",
       "    </tr>\n",
       "    <tr>\n",
       "      <th>4</th>\n",
       "      <td>https://www.myntra.com/tshirts/roadster/roadst...</td>\n",
       "      <td>11690882</td>\n",
       "      <td>Roadster</td>\n",
       "      <td>Western</td>\n",
       "      <td>tshirts</td>\n",
       "      <td>Women</td>\n",
       "      <td>roadster women white solid v neck pure cotton ...</td>\n",
       "      <td>NaN</td>\n",
       "      <td>599.0</td>\n",
       "      <td>35% OFF</td>\n",
       "      <td>XS, S, M, L, XL</td>\n",
       "      <td>4.2</td>\n",
       "      <td>999.0</td>\n",
       "    </tr>\n",
       "  </tbody>\n",
       "</table>\n",
       "</div>"
      ],
      "text/plain": [
       "                                                 URL  Product_id   BrandName  \\\n",
       "0  https://www.myntra.com/jeans/roadster/roadster...     2296012    Roadster   \n",
       "1  https://www.myntra.com/track-pants/locomotive/...    13780156  LOCOMOTIVE   \n",
       "2  https://www.myntra.com/shirts/roadster/roadste...    11895958    Roadster   \n",
       "3  https://www.myntra.com/shapewear/zivame/zivame...     4335679      Zivame   \n",
       "4  https://www.myntra.com/tshirts/roadster/roadst...    11690882    Roadster   \n",
       "\n",
       "                Category Individual_category category_by_Gender  \\\n",
       "0            Bottom Wear               jeans                Men   \n",
       "1            Bottom Wear         track-pants                Men   \n",
       "2                Topwear              shirts                Men   \n",
       "3  Lingerie & Sleep Wear           shapewear              Women   \n",
       "4                Western             tshirts              Women   \n",
       "\n",
       "                                         Description  DiscountPrice (in Rs)  \\\n",
       "0  roadster men navy blue slim fit mid rise clean...                  824.0   \n",
       "1  locomotive men black  white solid slim fit tra...                  517.0   \n",
       "2  roadster men navy white  black geometric print...                  629.0   \n",
       "3  zivame women black saree shapewear zi3023core0...                  893.0   \n",
       "4  roadster women white solid v neck pure cotton ...                    NaN   \n",
       "\n",
       "   OriginalPrice (in Rs) DiscountOffer              SizeOption  Ratings  \\\n",
       "0                 1499.0       45% OFF      28, 30, 32, 34, 36      3.9   \n",
       "1                 1149.0       55% OFF             S, M, L, XL      4.0   \n",
       "2                 1399.0       55% OFF  38, 40, 42, 44, 46, 48      4.3   \n",
       "3                 1295.0       31% OFF        S, M, L, XL, XXL      4.2   \n",
       "4                  599.0       35% OFF         XS, S, M, L, XL      4.2   \n",
       "\n",
       "   Reviews  \n",
       "0    999.0  \n",
       "1    999.0  \n",
       "2    999.0  \n",
       "3    999.0  \n",
       "4    999.0  "
      ]
     },
     "execution_count": 3,
     "metadata": {},
     "output_type": "execute_result"
    }
   ],
   "source": [
    "data = pd.read_csv('Myntra Fasion Clothing.csv')\n",
    "\n",
    "data.head(5)"
   ]
  },
  {
   "cell_type": "code",
   "execution_count": 6,
   "metadata": {},
   "outputs": [
    {
     "name": "stdout",
     "output_type": "stream",
     "text": [
      "Label Distribution:\n",
      " Indian Wear                 145845\n",
      "Western                     140992\n",
      "Topwear                      74537\n",
      "Bottom Wear                  55439\n",
      "Lingerie & Sleep Wear        55258\n",
      "Sports Wear                  20627\n",
      "Inner Wear &  Sleep Wear     20370\n",
      "Plus Size                    13496\n",
      "Name: Category, dtype: int64\n"
     ]
    },
    {
     "data": {
      "image/png": "[encoded data removed]",
      "text/plain": [
       "<Figure size 640x480 with 1 Axes>"
      ]
     },
     "metadata": {},
     "output_type": "display_data"
    }
   ],
   "source": [
    "labels = data['Category'].value_counts()\n",
    "print(\"Label Distribution:\\n\", labels)\n",
    "\n",
    "\n",
    "labels.plot(kind='bar')\n",
    "plt.title('Class Distribution')\n",
    "plt.xlabel('Category')\n",
    "plt.ylabel('Frequency')\n",
    "plt.show()\n"
   ]
  },
  {
   "cell_type": "code",
   "execution_count": 5,
   "metadata": {},
   "outputs": [
    {
     "name": "stderr",
     "output_type": "stream",
     "text": [
      "[nltk_data] Downloading package stopwords to\n",
      "[nltk_data]     /Users/yashrajsingh/nltk_data...\n",
      "[nltk_data]   Package stopwords is already up-to-date!\n",
      "[nltk_data] Downloading package wordnet to\n",
      "[nltk_data]     /Users/yashrajsingh/nltk_data...\n",
      "[nltk_data]   Package wordnet is already up-to-date!\n"
     ]
    }
   ],
   "source": [
    "\n",
    "nltk.download('stopwords')\n",
    "nltk.download('wordnet')\n",
    "\n",
    "lemmatizer = WordNetLemmatizer()\n",
    "stop_words = set(stopwords.words('english'))"
   ]
  },
  {
   "cell_type": "code",
   "execution_count": 6,
   "metadata": {},
   "outputs": [],
   "source": [
    "def preprocess(text):\n",
    "    text = re.sub(r'\\W', ' ', text)\n",
    "    text = text.lower()\n",
    "    words = text.split()\n",
    "    words = [lemmatizer.lemmatize(word) for word in words if word not in stop_words]\n",
    "    return ' '.join(words)\n",
    "\n",
    "data['Description'] = data['Description'].apply(preprocess)"
   ]
  },
  {
   "cell_type": "code",
   "execution_count": 7,
   "metadata": {},
   "outputs": [],
   "source": [
    "vectorizer = TfidfVectorizer(max_features=5000)\n",
    "X = vectorizer.fit_transform(data['Description'])\n",
    "y = data['Category']\n",
    "\n",
    "X_train, X_test, y_train, y_test = train_test_split(X, y, test_size=0.2, random_state=42)"
   ]
  },
  {
   "cell_type": "code",
   "execution_count": 14,
   "metadata": {},
   "outputs": [
    {
     "name": "stdout",
     "output_type": "stream",
     "text": [
      "Precision: 0.9526213837895823\n",
      "Recall: 0.9302704002857793\n",
      "F1 Score: 0.9406239807402943\n",
      "Accuracy: 0.9640215358027974\n",
      "Classification Report:\n",
      "                           precision    recall  f1-score   support\n",
      "\n",
      "             Bottom Wear       0.99      1.00      0.99     11193\n",
      "             Indian Wear       0.97      0.97      0.97     29089\n",
      "Inner Wear &  Sleep Wear       0.99      0.99      0.99      4043\n",
      "   Lingerie & Sleep Wear       0.99      0.99      0.99     11113\n",
      "               Plus Size       0.90      0.79      0.84      2731\n",
      "             Sports Wear       0.86      0.76      0.81      4135\n",
      "                 Topwear       0.97      0.97      0.97     14898\n",
      "                 Western       0.95      0.98      0.96     28111\n",
      "\n",
      "                accuracy                           0.96    105313\n",
      "               macro avg       0.95      0.93      0.94    105313\n",
      "            weighted avg       0.96      0.96      0.96    105313\n",
      "\n"
     ]
    }
   ],
   "source": [
    "from sklearn.ensemble import RandomForestClassifier\n",
    "\n",
    "classifier = RandomForestClassifier(n_estimators=100, random_state=42)\n",
    "classifier.fit(X_train, y_train)\n",
    "y_pred = classifier.predict(X_test)\n",
    "\n",
    "precision = precision_score(y_test, y_pred, average='macro', zero_division=0)\n",
    "recall = recall_score(y_test, y_pred, average='macro', zero_division=0)\n",
    "f1 = f1_score(y_test, y_pred, average='macro', zero_division=0)\n",
    "accuracy = accuracy_score(y_test, y_pred)\n",
    "\n",
    "print(f\"Precision: {precision}\")\n",
    "print(f\"Recall: {recall}\")\n",
    "print(f\"F1 Score: {f1}\")\n",
    "print(f\"Accuracy: {accuracy}\")\n",
    "print(\"Classification Report:\\n\", classification_report(y_test, y_pred))"
   ]
  },
  {
   "cell_type": "code",
   "execution_count": 15,
   "metadata": {},
   "outputs": [
    {
     "name": "stdout",
     "output_type": "stream",
     "text": [
      "Classification Report:\n",
      "                           precision    recall  f1-score   support\n",
      "\n",
      "             Bottom Wear       0.99      1.00      0.99     11193\n",
      "             Indian Wear       0.97      0.96      0.97     29089\n",
      "Inner Wear &  Sleep Wear       0.99      0.98      0.99      4043\n",
      "   Lingerie & Sleep Wear       0.99      0.99      0.99     11113\n",
      "               Plus Size       0.87      0.92      0.89      2731\n",
      "             Sports Wear       0.84      0.78      0.81      4135\n",
      "                 Topwear       0.97      0.96      0.97     14898\n",
      "                 Western       0.95      0.97      0.96     28111\n",
      "\n",
      "                accuracy                           0.97    105313\n",
      "               macro avg       0.95      0.95      0.95    105313\n",
      "            weighted avg       0.97      0.97      0.97    105313\n",
      "\n",
      "Precision: 0.9484804314241384\n",
      "Recall: 0.9464405134242644\n",
      "F1 Score: 0.9472098720304751\n",
      "Accuracy: 0.9652654468109351\n"
     ]
    }
   ],
   "source": [
    "ls_classifier = LogisticRegression(max_iter=1000)\n",
    "ls_classifier.fit(X_train, y_train)\n",
    "\n",
    "y_pred = ls_classifier.predict(X_test)\n",
    "\n",
    "print(\"Classification Report:\\n\", classification_report(y_test, y_pred))\n",
    "\n",
    "precision = precision_score(y_test, y_pred, average='macro', zero_division=0)\n",
    "recall = recall_score(y_test, y_pred, average='macro', zero_division=0)\n",
    "f1 = f1_score(y_test, y_pred, average='macro', zero_division=0)\n",
    "accuracy = accuracy_score(y_test, y_pred)\n",
    "\n",
    "print(f\"Precision: {precision}\")\n",
    "print(f\"Recall: {recall}\")\n",
    "print(f\"F1 Score: {f1}\")\n",
    "print(f\"Accuracy: {accuracy}\")"
   ]
  },
  {
   "cell_type": "markdown",
   "metadata": {},
   "source": [
    "Picking the Best Model"
   ]
  },
  {
   "cell_type": "code",
   "execution_count": 8,
   "metadata": {},
   "outputs": [
    {
     "name": "stdout",
     "output_type": "stream",
     "text": [
      "Accuracy: 0.9652654468109351\n",
      "Classification Report:\n",
      "                           precision    recall  f1-score   support\n",
      "\n",
      "             Bottom Wear       0.99      1.00      0.99     11193\n",
      "             Indian Wear       0.97      0.96      0.97     29089\n",
      "Inner Wear &  Sleep Wear       0.99      0.98      0.99      4043\n",
      "   Lingerie & Sleep Wear       0.99      0.99      0.99     11113\n",
      "               Plus Size       0.87      0.92      0.89      2731\n",
      "             Sports Wear       0.84      0.78      0.81      4135\n",
      "                 Topwear       0.97      0.96      0.97     14898\n",
      "                 Western       0.95      0.97      0.96     28111\n",
      "\n",
      "                accuracy                           0.97    105313\n",
      "               macro avg       0.95      0.95      0.95    105313\n",
      "            weighted avg       0.97      0.97      0.97    105313\n",
      "\n"
     ]
    },
    {
     "data": {
      "text/plain": [
       "['tfidf_vectorizer.pkl']"
      ]
     },
     "execution_count": 8,
     "metadata": {},
     "output_type": "execute_result"
    }
   ],
   "source": [
    "classifier = LogisticRegression(max_iter=1000)\n",
    "classifier.fit(X_train, y_train)\n",
    "\n",
    "y_pred = classifier.predict(X_test)\n",
    "\n",
    "print(\"Accuracy:\", accuracy_score(y_test, y_pred))\n",
    "print(\"Classification Report:\\n\", classification_report(y_test, y_pred))\n",
    "\n",
    "joblib.dump(classifier, 'text_classifier_model.pkl')\n",
    "joblib.dump(vectorizer, 'tfidf_vectorizer.pkl')"
   ]
  },
  {
   "cell_type": "code",
   "execution_count": 9,
   "metadata": {},
   "outputs": [],
   "source": [
    "def predict_category(text):\n",
    "\n",
    "    processed_text = preprocess(text)\n",
    "    text_features = vectorizer.transform([processed_text])\n",
    "    \n",
    "    predicted_category = classifier.predict(text_features)\n",
    "    \n",
    "    return predicted_category[0]"
   ]
  },
  {
   "cell_type": "code",
   "execution_count": 13,
   "metadata": {},
   "outputs": [
    {
     "data": {
      "text/plain": [
       "'Indian Wear'"
      ]
     },
     "execution_count": 13,
     "metadata": {},
     "output_type": "execute_result"
    }
   ],
   "source": [
    "predict_category('women printed woolen kurta')"
   ]
  },
  {
   "cell_type": "code",
   "execution_count": null,
   "metadata": {},
   "outputs": [],
   "source": []
  }
 ],
 "metadata": {
  "kernelspec": {
   "display_name": "base",
   "language": "python",
   "name": "python3"
  },
  "language_info": {
   "codemirror_mode": {
    "name": "ipython",
    "version": 3
   },
   "file_extension": ".py",
   "mimetype": "text/x-python",
   "name": "python",
   "nbconvert_exporter": "python",
   "pygments_lexer": "ipython3",
   "version": "3.11.4"
  }
 },
 "nbformat": 4,
 "nbformat_minor": 2
}
