{
 "cells": [
  {
   "cell_type": "code",
   "execution_count": null,
   "metadata": {},
   "outputs": [],
   "source": [
    "from elasticsearch import Elasticsearch\n",
    "import pandas as pd"
   ]
  },
  {
   "cell_type": "code",
   "execution_count": null,
   "metadata": {},
   "outputs": [],
   "source": [
    "import re\n",
    "df = pd.read_csv('products.csv',encoding='utf-8')\n",
    "df.head()"
   ]
  },
  {
   "cell_type": "code",
   "execution_count": null,
   "metadata": {},
   "outputs": [],
   "source": [
    "def clean_text(text):\n",
    "    text = re.sub(r'\\s+', ' ', text).strip() \n",
    "    text = re.sub(r'[^A-Za-z0-9 ]+', '', text)\n",
    "    text = text.lower().strip()  \n",
    "    return text\n",
    "\n",
    "df['Description'] = df['Description'].apply(clean_text)"
   ]
  },
  {
   "cell_type": "code",
   "execution_count": null,
   "metadata": {},
   "outputs": [],
   "source": [
    "# password = \"WLr9YJy_OSe=POPdH3d1\"\n",
    "# username = \"elastic\""
   ]
  },
  {
   "cell_type": "code",
   "execution_count": null,
   "metadata": {},
   "outputs": [],
   "source": [
    "es = Elasticsearch(\n",
    "    \"https://localhost:9200\",\n",
    "    http_auth=(username, password),\n",
    "    verify_certs=False\n",
    ")\n",
    "index_name = 'products'\n",
    "es.indices.create(index=index_name)\n",
    "count = 0\n",
    "for _, row in df.iterrows():\n",
    "\n",
    "    price = float(row['OriginalPrice (in Rs)']) if 'OriginalPrice (in Rs)' in row else 999.0\n",
    "    print(count)\n",
    "\n",
    "    document = {\n",
    "        \"description\": row['Description'],\n",
    "        \"category\": row['Category'],\n",
    "        \"brand\": row['BrandName'],\n",
    "        \"price\": price\n",
    "    }\n",
    "    es.index(index=index_name, body=document)\n",
    "    count+=1\n",
    "\n",
    "print(\"Data indexed successfully!\")"
   ]
  },
  {
   "cell_type": "code",
   "execution_count": null,
   "metadata": {},
   "outputs": [],
   "source": [
    "doc_count = es.count(index=index_name)['count']\n",
    "\n",
    "print(f\"Number of documents in index '{index_name}': {doc_count}\")"
   ]
  },
  {
   "cell_type": "code",
   "execution_count": null,
   "metadata": {},
   "outputs": [],
   "source": []
  }
 ],
 "metadata": {
  "language_info": {
   "name": "python"
  }
 },
 "nbformat": 4,
 "nbformat_minor": 2
}
